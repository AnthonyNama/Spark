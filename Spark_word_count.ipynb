{
  "nbformat": 4,
  "nbformat_minor": 0,
  "metadata": {
    "colab": {
      "name": "Spark - word count.ipynb",
      "provenance": [],
      "mount_file_id": "1RVjc4oLhGdu7AQKIl1sYW-TiGtqFtyMp",
      "authorship_tag": "ABX9TyNdHEuLQ7+AAMZEy4bDYLXJ"
    },
    "kernelspec": {
      "name": "python3",
      "display_name": "Python 3"
    }
  },
  "cells": [
    {
      "cell_type": "code",
      "metadata": {
        "id": "IGuSHpvLp6U2",
        "colab_type": "code",
        "colab": {}
      },
      "source": [
        "!!apt-get install openjdk-8-jdk-headless -qq > /dev/null\n",
        "!wget -q https://www-us.apache.org/dist/spark/spark-3.0.0/spark-3.0.0-bin-hadoop2.7.tgz\n",
        "!tar xf spark-3.0.0-bin-hadoop2.7.tgz\n",
        "!pip install -q findspark"
      ],
      "execution_count": 1,
      "outputs": []
    },
    {
      "cell_type": "code",
      "metadata": {
        "id": "v14JmshRru01",
        "colab_type": "code",
        "colab": {}
      },
      "source": [
        "import os\n",
        "os.environ[\"JAVA_HOME\"] = \"/usr/lib/jvm/java-8-openjdk-amd64\"\n",
        "os.environ[\"SPARK_HOME\"] = \"/content/spark-3.0.0-bin-hadoop2.7\""
      ],
      "execution_count": 2,
      "outputs": []
    },
    {
      "cell_type": "code",
      "metadata": {
        "id": "bDyoZW2QprIc",
        "colab_type": "code",
        "colab": {}
      },
      "source": [
        "import findspark\n",
        "findspark.init()"
      ],
      "execution_count": 3,
      "outputs": []
    },
    {
      "cell_type": "code",
      "metadata": {
        "id": "H4gtD9nruI9w",
        "colab_type": "code",
        "colab": {}
      },
      "source": [
        "from pyspark.sql import SparkSession as sp"
      ],
      "execution_count": 4,
      "outputs": []
    },
    {
      "cell_type": "code",
      "metadata": {
        "id": "yZ53r8ijuSGE",
        "colab_type": "code",
        "colab": {}
      },
      "source": [
        "from pyspark import SparkContext"
      ],
      "execution_count": 5,
      "outputs": []
    },
    {
      "cell_type": "code",
      "metadata": {
        "id": "_EKh8bYauzua",
        "colab_type": "code",
        "colab": {}
      },
      "source": [
        "sc = SparkContext()"
      ],
      "execution_count": 6,
      "outputs": []
    },
    {
      "cell_type": "code",
      "metadata": {
        "id": "hCIo-1fDvPX_",
        "colab_type": "code",
        "colab": {}
      },
      "source": [
        "lines = sc.textFile(\"pitch.txt\")"
      ],
      "execution_count": 10,
      "outputs": []
    },
    {
      "cell_type": "code",
      "metadata": {
        "id": "fXBwjsXzvlDm",
        "colab_type": "code",
        "colab": {
          "base_uri": "https://localhost:8080/",
          "height": 34
        },
        "outputId": "1ffccf04-396c-4e04-a1fd-02e1bddb8edc"
      },
      "source": [
        "type(lines)"
      ],
      "execution_count": 11,
      "outputs": [
        {
          "output_type": "execute_result",
          "data": {
            "text/plain": [
              "pyspark.rdd.RDD"
            ]
          },
          "metadata": {
            "tags": []
          },
          "execution_count": 11
        }
      ]
    },
    {
      "cell_type": "code",
      "metadata": {
        "id": "_KPPrUY_vPcC",
        "colab_type": "code",
        "colab": {}
      },
      "source": [
        "word_counts = lines.flatMap(lambda line: line.split(\" \")).map(lambda word: (word, 1)).reduceByKey(lambda count1, count2: count1 + count2).collect()"
      ],
      "execution_count": 12,
      "outputs": []
    },
    {
      "cell_type": "code",
      "metadata": {
        "id": "oamTZUQxvPac",
        "colab_type": "code",
        "colab": {
          "base_uri": "https://localhost:8080/",
          "height": 1000
        },
        "outputId": "1fea83a9-2d80-46b0-b274-2bb919f95db2"
      },
      "source": [
        "word_counts"
      ],
      "execution_count": 13,
      "outputs": [
        {
          "output_type": "execute_result",
          "data": {
            "text/plain": [
              "[('', 16),\n",
              " ('Anthony', 1),\n",
              " ('Nama.', 1),\n",
              " ('suis', 4),\n",
              " ('spécialisé', 1),\n",
              " ('dans', 1),\n",
              " ('les', 5),\n",
              " ('algorithmes', 3),\n",
              " ('automatique,', 1),\n",
              " ('traiter', 1),\n",
              " ('des', 7),\n",
              " ('volumineuses', 1),\n",
              " ('différentes', 1),\n",
              " ('natures', 1),\n",
              " (';', 1),\n",
              " ('structurées', 2),\n",
              " ('organisée', 1),\n",
              " ('en', 6),\n",
              " ('ou', 1),\n",
              " ('telles', 1),\n",
              " ('que', 3),\n",
              " ('du', 5),\n",
              " ('vidéos.', 2),\n",
              " ('parcours', 1),\n",
              " ('résume', 1),\n",
              " ('principales', 1),\n",
              " ('étapes', 1),\n",
              " ('tant', 1),\n",
              " ('développeur', 2),\n",
              " (\"d'application\", 2),\n",
              " ('informatique', 3),\n",
              " ('au', 5),\n",
              " ('sein', 2),\n",
              " ('SERDI', 1),\n",
              " ('deuxième', 2),\n",
              " ('comme', 2),\n",
              " ('analyste', 2),\n",
              " ('lors', 1),\n",
              " ('mon', 1),\n",
              " ('stage', 1),\n",
              " ('master', 2),\n",
              " ('laboratoire', 1),\n",
              " ('département', 1),\n",
              " (\"d'informatique\", 1),\n",
              " ('capable', 2),\n",
              " ('répondre', 1),\n",
              " ('à', 5),\n",
              " ('mathématiques', 1),\n",
              " (\"d'algorithmes\", 1),\n",
              " ('adaptés.', 1),\n",
              " ('supervisés', 2),\n",
              " ('sur', 4),\n",
              " ('tels', 1),\n",
              " ('maintenance', 2),\n",
              " ('systèmes', 2),\n",
              " ('recommandation,', 1),\n",
              " ('clients', 1),\n",
              " ('stabilité', 1),\n",
              " ('cours', 1),\n",
              " ('temps.', 1),\n",
              " ('enfin,', 1),\n",
              " ('Les', 1),\n",
              " ('classification', 3),\n",
              " ('textes', 1),\n",
              " ('multilingues,', 1),\n",
              " ('aussi', 1),\n",
              " ('participer', 1),\n",
              " ('preuve', 1),\n",
              " ('science', 1),\n",
              " ('diplôme', 1),\n",
              " ('RNCP', 1),\n",
              " ('(Bac+5)', 1),\n",
              " ('pour', 3),\n",
              " ('le', 3),\n",
              " ('travers', 1),\n",
              " ('mise', 2),\n",
              " ('traduction', 1),\n",
              " ('basé', 1),\n",
              " ('modèles', 1),\n",
              " ('NLG', 1),\n",
              " (\"d'une\", 1),\n",
              " ('vision', 1),\n",
              " ('description', 1),\n",
              " ('langage', 1),\n",
              " ('naturel', 1),\n",
              " ('poste', 1),\n",
              " ('Comme', 1),\n",
              " ('activité', 1),\n",
              " ('(le', 1),\n",
              " ('développement', 1),\n",
              " ('Discuter', 1),\n",
              " ('avec', 1),\n",
              " ('point', 1),\n",
              " ('(que', 1),\n",
              " ('dire', 1),\n",
              " ('remettre', 1),\n",
              " ('parole', 1),\n",
              " ('....', 1),\n",
              " ('Bonjour,', 1),\n",
              " ('Je', 5),\n",
              " (\"m'appelle\", 1),\n",
              " ('un', 3),\n",
              " ('Data', 2),\n",
              " ('Scientist', 1),\n",
              " (\"d'apprentissage\", 1),\n",
              " ('permettant', 1),\n",
              " ('de', 23),\n",
              " ('données', 3),\n",
              " ('et', 15),\n",
              " ('base', 1),\n",
              " ('non', 2),\n",
              " ('texte,', 1),\n",
              " ('images', 1),\n",
              " ('Mon', 1),\n",
              " ('professionnel', 1),\n",
              " ('se', 1),\n",
              " ('2', 2),\n",
              " (':', 1),\n",
              " ('la', 14),\n",
              " ('première', 2),\n",
              " (\"l'entreprise\", 1),\n",
              " ('data', 3),\n",
              " (\"d'ingénieur\", 1),\n",
              " ('NLP', 2),\n",
              " ('labo', 1),\n",
              " ('IDASCO.', 1),\n",
              " ('problématiques', 1),\n",
              " ('IA', 1),\n",
              " ('par', 2),\n",
              " ('modélisation', 2),\n",
              " (\"l'aide\", 1),\n",
              " ('Tout', 1),\n",
              " (\"d'abord,\", 1),\n",
              " ('problèmes', 3),\n",
              " ('prédictive,', 1),\n",
              " ('catégorisation', 1),\n",
              " ('multilabels.', 1),\n",
              " ('Ensuite,', 1),\n",
              " ('sujets,', 1),\n",
              " ('segmentation', 2),\n",
              " ('Et', 1),\n",
              " ('réseaux', 1),\n",
              " ('neurones', 1),\n",
              " ('profond', 1),\n",
              " (\"d'images\", 1),\n",
              " ('projet', 1),\n",
              " ('recherche', 2),\n",
              " ('réaliser', 1),\n",
              " ('une', 1),\n",
              " ('concept', 1),\n",
              " ('POC.', 1),\n",
              " ('titulaire', 1),\n",
              " (\"d'un\", 2),\n",
              " ('spécialité', 1),\n",
              " ('système', 1),\n",
              " (\"d'information,\", 1),\n",
              " ('niveau', 1),\n",
              " ('7', 1),\n",
              " ('Passionné', 1),\n",
              " ('place', 1),\n",
              " ('QA,', 1),\n",
              " ('NLU', 1),\n",
              " ('part', 2),\n",
              " (\"d'autre\", 1),\n",
              " ('ordinateur', 1),\n",
              " (\"d'images,\", 1),\n",
              " ('je', 2),\n",
              " ('idéalement', 1),\n",
              " ('scientist', 1),\n",
              " ('NLP.', 1),\n",
              " ('extra-professionnelle,', 1),\n",
              " (\"m'intéresse\", 1),\n",
              " ('pédagogie,', 1),\n",
              " ('sport', 1),\n",
              " ('foot', 1),\n",
              " ('randonnée)', 1),\n",
              " ('personnel.', 1),\n",
              " ('coach', 1),\n",
              " ('écoute,', 1),\n",
              " ('transition', 1),\n",
              " ('paroles', 1),\n",
              " ('?)', 1)]"
            ]
          },
          "metadata": {
            "tags": []
          },
          "execution_count": 13
        }
      ]
    }
  ]
}